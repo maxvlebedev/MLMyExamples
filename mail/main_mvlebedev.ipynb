{
 "cells": [
  {
   "cell_type": "code",
   "execution_count": 1,
   "metadata": {
    "collapsed": true
   },
   "outputs": [],
   "source": [
    "import pandas as pds\n",
    "import matplotlib.pylab as plt\n",
    "import numpy as np\n",
    "import json\n",
    "%matplotlib inline\n",
    "\n",
    "df_train = pds.read_csv('Train.csv')\n",
    "df_test = pds.read_csv('Test.csv')"
   ]
  },
  {
   "cell_type": "markdown",
   "metadata": {},
   "source": [
    "# Kaggle: Предсказание цены недвижимости"
   ]
  },
  {
   "cell_type": "code",
   "execution_count": 2,
   "metadata": {},
   "outputs": [
    {
     "data": {
      "text/plain": [
       "<bound method DataFrame.info of           id    date  street_id  build_tech  floor  area  rooms  balcon  \\\n",
       "0          0  2011-1        121         1.0      3    52      2       1   \n",
       "1          1  2011-1         58         1.0      6   101      3       1   \n",
       "2          2  2011-1        530         0.0     11    71      3       0   \n",
       "3          3  2011-1        448         NaN      5    36      1       1   \n",
       "4          4  2011-1        404         2.0      3   215      6       2   \n",
       "5          5  2011-1        443         1.0      3    52      2       1   \n",
       "6          6  2011-1        452         0.0      5    59      3       0   \n",
       "7          7  2011-1         25         0.0      7    38      1       0   \n",
       "8          8  2011-1        193         1.0      9    52      2       1   \n",
       "9          9  2011-1        419         NaN      5    34      1       1   \n",
       "10        10  2011-1        498         NaN      2    35      1       0   \n",
       "11        11  2011-1        173         1.0      7    61      3       1   \n",
       "12        12  2011-1        292         0.0      2    33      1       0   \n",
       "13        13  2011-1        136         NaN      1    36      1       0   \n",
       "14        14  2011-1        277         1.0      7    60      3       0   \n",
       "15        15  2011-1        415         NaN      3    60      3       1   \n",
       "16        16  2011-1        260         NaN     16    87      3       2   \n",
       "17        17  2011-1        314         0.0     11    61      3       0   \n",
       "18        18  2011-1        411         1.0      6    52      2       0   \n",
       "19        19  2011-1        505         0.0      7    61      3       0   \n",
       "20        20  2011-1        413         NaN      3    58      3       0   \n",
       "21        21  2011-1        552         NaN     12    52      2       1   \n",
       "22        22  2011-1         58         2.0     14    88      3       2   \n",
       "23        23  2011-1         45         1.0      6    64      2       1   \n",
       "24        24  2011-1        304         1.0      6   112      3       0   \n",
       "25        25  2011-1        567         0.0      1    31      1       0   \n",
       "26        26  2011-1        669         NaN      1    43      2       0   \n",
       "27        27  2011-1        441         0.0      4    34      1       0   \n",
       "28        28  2011-1        183         1.0      1    52      2       0   \n",
       "29        29  2011-1        361         1.0     11    35      1       1   \n",
       "...      ...     ...        ...         ...    ...   ...    ...     ...   \n",
       "99970  99970  2012-3         53         NaN      9    34      1       0   \n",
       "99971  99971  2012-3        438         1.0      7    35      1       1   \n",
       "99972  99972  2012-3        101         0.0      1    32      1       0   \n",
       "99973  99973  2012-3        572         0.0      3    29      1       0   \n",
       "99974  99974  2012-3        659         1.0      1    86      3       1   \n",
       "99975  99975  2012-3        182         1.0      9    62      2       1   \n",
       "99976  99976  2012-3        206         1.0      2    59      3       1   \n",
       "99977  99977  2012-3        548         0.0      2    57      3       0   \n",
       "99978  99978  2012-3        159         2.0      5   167      4       0   \n",
       "99979  99979  2012-3         74         1.0      7    52      2       1   \n",
       "99980  99980  2012-3        499         0.0      3    35      1       0   \n",
       "99981  99981  2012-3         80         NaN      2    49      2       0   \n",
       "99982  99982  2012-3        334         1.0     11    34      1       1   \n",
       "99983  99983  2012-3        215         0.0      2    34      1       0   \n",
       "99984  99984  2012-3         72         0.0      7    61      3       0   \n",
       "99985  99985  2012-3        551         1.0      5    52      2       0   \n",
       "99986  99986  2012-3        291         1.0      3    51      2       1   \n",
       "99987  99987  2012-3         11         0.0      5    34      1       0   \n",
       "99988  99988  2012-3        460         1.0      7   109      3       1   \n",
       "99989  99989  2012-3        594         0.0      3    59      3       0   \n",
       "99990  99990  2012-3         37         1.0      1    60      3       0   \n",
       "99991  99991  2012-3        200         0.0     12    47      2       0   \n",
       "99992  99992  2012-3        287         1.0      4    60      3       1   \n",
       "99993  99993  2012-3        611         NaN      3    31      1       0   \n",
       "99994  99994  2012-3        645         NaN      7    61      3       0   \n",
       "99995  99995  2012-3        493         NaN     12    57      2       0   \n",
       "99996  99996  2012-3        594         0.0      4    58      3       0   \n",
       "99997  99997  2012-3        286         0.0      7    59      3       0   \n",
       "99998  99998  2012-3        412         0.0      5    33      1       0   \n",
       "99999  99999  2012-3        246         NaN      3    32      1       1   \n",
       "\n",
       "       metro_dist  g_lift    ...     kw5  kw6  kw7  kw8  kw9  kw10  kw11  \\\n",
       "0            30.0     0.0    ...       0    0    0    0    0     0     0   \n",
       "1             5.0     NaN    ...       0    0    0    0    0     0     0   \n",
       "2            30.0     NaN    ...       0    0    0    0    0     0     0   \n",
       "3            15.0     0.0    ...       0    0    0    0    0     0     0   \n",
       "4            20.0     1.0    ...       0    0    0    0    0     0     0   \n",
       "5            25.0     1.0    ...       0    0    0    0    0     0     0   \n",
       "6            30.0     0.0    ...       0    0    0    0    0     0     0   \n",
       "7            30.0     NaN    ...       0    0    0    0    0     0     0   \n",
       "8            30.0     1.0    ...       0    0    0    0    0     0     0   \n",
       "9             5.0     0.0    ...       0    0    0    0    0     0     0   \n",
       "10           30.0     0.0    ...       0    0    0    0    0     0     0   \n",
       "11           15.0     0.0    ...       0    0    0    0    0     0     0   \n",
       "12           30.0     0.0    ...       0    0    0    0    0     0     0   \n",
       "13           30.0     0.0    ...       0    0    0    0    0     0     0   \n",
       "14            NaN     NaN    ...       0    0    0    0    0     0     0   \n",
       "15           15.0     0.0    ...       0    0    0    0    0     0     0   \n",
       "16           10.0     1.0    ...       0    0    0    0    0     0     0   \n",
       "17           30.0     NaN    ...       0    0    0    0    0     0     0   \n",
       "18           10.0     0.0    ...       0    0    0    0    0     0     0   \n",
       "19           20.0     NaN    ...       0    0    0    0    0     0     0   \n",
       "20           20.0     1.0    ...       0    0    0    0    0     0     0   \n",
       "21           25.0     0.0    ...       0    0    0    0    0     0     0   \n",
       "22            5.0     1.0    ...       0    0    0    0    0     0     0   \n",
       "23           15.0     0.0    ...       0    0    0    0    0     0     0   \n",
       "24           30.0     NaN    ...       0    0    0    0    0     0     0   \n",
       "25           15.0     1.0    ...       0    0    0    0    0     0     0   \n",
       "26           30.0     NaN    ...       0    0    0    0    0     0     0   \n",
       "27           10.0     0.0    ...       0    0    0    0    0     0     0   \n",
       "28           30.0     0.0    ...       0    0    0    0    0     0     0   \n",
       "29           30.0     NaN    ...       0    0    0    0    0     0     0   \n",
       "...           ...     ...    ...     ...  ...  ...  ...  ...   ...   ...   \n",
       "99970        15.0     1.0    ...       0    0    0    0    0     0     0   \n",
       "99971        10.0     0.0    ...       0    0    0    0    0     0     0   \n",
       "99972        25.0     NaN    ...       0    0    0    0    0     0     0   \n",
       "99973         5.0     1.0    ...       0    0    0    0    0     0     0   \n",
       "99974        15.0     0.0    ...       0    0    0    0    0     0     0   \n",
       "99975        25.0     0.0    ...       0    0    0    0    0     0     1   \n",
       "99976        15.0     1.0    ...       0    0    0    0    0     0     0   \n",
       "99977        30.0     0.0    ...       0    0    0    0    0     0     0   \n",
       "99978        30.0     0.0    ...       0    0    0    0    0     0     0   \n",
       "99979        15.0     NaN    ...       0    0    0    0    0     0     0   \n",
       "99980        25.0     1.0    ...       0    0    0    0    0     0     0   \n",
       "99981        30.0     NaN    ...       0    0    0    0    0     0     0   \n",
       "99982        20.0     NaN    ...       0    0    0    0    0     0     0   \n",
       "99983        25.0     NaN    ...       0    0    0    0    0     0     0   \n",
       "99984         5.0     NaN    ...       0    0    0    0    0     0     0   \n",
       "99985        20.0     NaN    ...       0    0    0    0    0     0     0   \n",
       "99986        10.0     1.0    ...       0    0    0    0    0     0     0   \n",
       "99987        20.0     1.0    ...       0    0    0    0    0     0     0   \n",
       "99988        15.0     NaN    ...       0    0    0    0    0     0     0   \n",
       "99989        25.0     0.0    ...       0    0    0    0    0     0     0   \n",
       "99990        30.0     0.0    ...       0    0    0    0    0     0     0   \n",
       "99991        30.0     1.0    ...       0    0    0    0    0     0     0   \n",
       "99992        30.0     1.0    ...       0    0    0    0    0     0     0   \n",
       "99993        30.0     1.0    ...       0    0    0    0    0     0     0   \n",
       "99994        20.0     1.0    ...       0    0    0    0    0     0     0   \n",
       "99995        30.0     0.0    ...       0    0    0    0    0     0     0   \n",
       "99996        30.0     1.0    ...       0    0    0    0    0     0     0   \n",
       "99997        20.0     0.0    ...       0    0    0    0    0     0     0   \n",
       "99998        10.0     0.0    ...       0    0    0    0    0     0     0   \n",
       "99999        10.0     1.0    ...       0    0    0    0    1     0     0   \n",
       "\n",
       "       kw12  kw13     price  \n",
       "0         0     0   3090000  \n",
       "1         0     0  15372000  \n",
       "2         0     0  10067000  \n",
       "3         0     0   3159000  \n",
       "4         0     0  13816000  \n",
       "5         0     0   5473000  \n",
       "6         0     0   3760000  \n",
       "7         0     0   1000000  \n",
       "8         0     0   4843000  \n",
       "9         0     0   1000000  \n",
       "10        0     0   4040000  \n",
       "11        0     0  10475000  \n",
       "12        0     0   2849000  \n",
       "13        0     0   2288000  \n",
       "14        0     0   6672000  \n",
       "15        0     0   8965000  \n",
       "16        0     0  15362000  \n",
       "17        0     0   3588000  \n",
       "18        0     0   2858000  \n",
       "19        0     0   4345000  \n",
       "20        0     0   4724000  \n",
       "21        0     0   4712000  \n",
       "22        0     0  10836000  \n",
       "23        0     0   7199000  \n",
       "24        0     0  10873000  \n",
       "25        0     0   1163000  \n",
       "26        0     0   1351000  \n",
       "27        0     0   3864000  \n",
       "28        0     0  11624000  \n",
       "29        0     0   6940000  \n",
       "...     ...   ...       ...  \n",
       "99970     0     0   3239000  \n",
       "99971     0     0   4529000  \n",
       "99972     0     0   2015000  \n",
       "99973     0     0   2274000  \n",
       "99974     0     0  10462000  \n",
       "99975     0     0   8055000  \n",
       "99976     0     0  14642000  \n",
       "99977     0     0   3384000  \n",
       "99978     0     0  21076000  \n",
       "99979     0     0   5421000  \n",
       "99980     0     0   2356000  \n",
       "99981     0     0   4845000  \n",
       "99982     0     0   5768000  \n",
       "99983     0     0   2741000  \n",
       "99984     0     0   6040000  \n",
       "99985     0     0   3786000  \n",
       "99986     0     0   5561000  \n",
       "99987     0     0   2737000  \n",
       "99988     0     0  25384000  \n",
       "99989     0     0   2417000  \n",
       "99990     0     0   5186000  \n",
       "99991     0     0   3908000  \n",
       "99992     0     0   4605000  \n",
       "99993     0     0   1838000  \n",
       "99994     0     0   7551000  \n",
       "99995     0     0   1000000  \n",
       "99996     0     0   1542000  \n",
       "99997     0     0   5376000  \n",
       "99998     0     0   6226000  \n",
       "99999     0     0   2580000  \n",
       "\n",
       "[100000 rows x 25 columns]>"
      ]
     },
     "execution_count": 2,
     "metadata": {},
     "output_type": "execute_result"
    }
   ],
   "source": [
    "df_train.info"
   ]
  },
  {
   "cell_type": "markdown",
   "metadata": {},
   "source": [
    "## Обработка данных:даты - год, месяц, сезон; фильтрация nan\n"
   ]
  },
  {
   "cell_type": "code",
   "execution_count": 3,
   "metadata": {
    "collapsed": true
   },
   "outputs": [],
   "source": [
    "def date_string_to_year(str):\n",
    "    v = str.split('-')\n",
    "    #print v\n",
    "    \n",
    "    return int(v[0])\n",
    "\n",
    "def date_string_to_season(str):\n",
    "    v = str.split('-')\n",
    "    #print v\n",
    "    val = int(v[1])\n",
    "    if (val<=3):\n",
    "        return 1\n",
    "    else:\n",
    "        if val<=6:\n",
    "            return 2\n",
    "        else:\n",
    "            if val<=9:\n",
    "                return 3 \n",
    "    return 4\n",
    "\n",
    "def date_string_to_month(str):\n",
    "    v = str.split(\"-\")\n",
    "    return int(v[1])\n",
    "\n",
    "def date_to_num(str):\n",
    "    v = str.split('-')\n",
    "    #print v\n",
    "    return (int(v[0]) - 2011)*12 + int(v[1])\n",
    "\n",
    "def data_preprocessing(df_train):\n",
    "    df_train['date_year'] = df_train['date'].map(lambda x: date_string_to_year(x))\n",
    "    df_train['date_month'] = df_train['date'].map(lambda x: date_string_to_month(x))\n",
    "    df_train['date_num'] = df_train['date'].map(lambda x: date_to_num(x))\n",
    "    df_train['date_season'] = df_train['date'].map(lambda x: date_string_to_season(x))\n",
    "    is_nan_values = ['build_tech','g_lift','metro_dist']\n",
    "    for el in is_nan_values:\n",
    "        non_nan = df_train.loc[np.isnan(df_train[el]) == False] \n",
    "        val = np.mean(non_nan[el])\n",
    "        df_train.loc[np.isnan(df_train[el]),el] = val\n",
    "    return df_train\n",
    "\n",
    "df_train = data_preprocessing(df_train)\n",
    "\n"
   ]
  },
  {
   "cell_type": "code",
   "execution_count": 4,
   "metadata": {},
   "outputs": [
    {
     "data": {
      "text/plain": [
       "<matplotlib.text.Text at 0x7f2d972b0b10>"
      ]
     },
     "execution_count": 4,
     "metadata": {},
     "output_type": "execute_result"
    },
    {
     "data": {
      "image/png": "[encoded data removed]",
      "text/plain": [
       "<matplotlib.figure.Figure at 0x7f2d97368290>"
      ]
     },
     "metadata": {},
     "output_type": "display_data"
    }
   ],
   "source": [
    "y_train = df_train['price']\n",
    "plt.plot(y_train)\n",
    "plt.xlabel('number')\n",
    "plt.ylabel('price')"
   ]
  },
  {
   "cell_type": "code",
   "execution_count": 5,
   "metadata": {
    "collapsed": true
   },
   "outputs": [],
   "source": [
    "\n",
    "\n",
    "#COLUMNS2 = ['street_id', 'build_tech', 'floor', 'area', 'rooms', 'balcon', 'metro_dist', 'g_lift', 'n_photos', 'kw1', 'kw2', 'kw3', 'kw4', 'kw5', 'kw6', 'kw7', 'kw8', 'kw9', 'kw10', 'kw11', 'kw12', 'kw13']\n",
    "COLUMNS2 = ['date_year','date_month', 'street_id', 'build_tech', 'floor', 'area', 'rooms', 'balcon', 'metro_dist',  'n_photos']\n",
    "\n",
    "#COLUMNS2 = ['date_year','date_month',  'build_tech', 'floor', 'area', 'rooms', 'balcon', 'metro_dist', 'g_lift', 'n_photos']\n",
    "#COLUMNS2 = ['date_num','date_month',  'build_tech', 'floor', 'area', 'rooms', 'balcon', 'metro_dist', 'g_lift', 'n_photos']\n",
    "\n",
    "X = df_train[COLUMNS2]\n",
    "Y = df_train['price']\n",
    "import xgboost as xgb"
   ]
  },
  {
   "cell_type": "code",
   "execution_count": 6,
   "metadata": {},
   "outputs": [
    {
     "name": "stdout",
     "output_type": "stream",
     "text": [
      "{'est': [700], 'val-err': [931529.09146627493], 'val': [485099.33210417966], 'depth': [8], 'file_n': [], 'dile_n': 1}\n"
     ]
    }
   ],
   "source": [
    "from sklearn.linear_model import LinearRegression\n",
    "from sklearn.preprocessing import StandardScaler\n",
    "from sklearn.model_selection import cross_val_score\n",
    "from sklearn.ensemble import GradientBoostingRegressor\n",
    "import sklearn.ensemble\n",
    "\n",
    "def validation_err(df_train,reg):\n",
    "    df_newtest = df_train.loc[df_train['date'] == '2012-3']\n",
    "    df_newtrain = df_train.loc[df_train['date'] != '2012-3']\n",
    "    Xnew_test = df_newtest[COLUMNS2]\n",
    "    Ynew_test = df_newtest['price']\n",
    "    Xnew_train = df_newtrain[COLUMNS2]\n",
    "    Ynew_train = df_newtrain['price']\n",
    "    reg.fit(Xnew_train,Ynew_train)\n",
    "    Y_pred_test = reg.predict(Xnew_test)\n",
    "    return mean_absolute_error(Y_pred_test,Ynew_test)\n",
    "\n",
    "from sklearn.preprocessing import MinMaxScaler\n",
    "from sklearn.metrics import  mean_absolute_error    \n",
    "#min_max_scaler = MinMaxScaler()\n",
    "#reg = GradientBoostingRegressor(verbose=False, random_state=42, max_depth=10, learning_rate=0.9)\n",
    "#reg = LogisticRegression(penalty='l2')\n",
    "#lin = LinearRegression(fit_intercept=True, normalize=False, copy_X=True, n_jobs=1)\n",
    "#reg = sklearn.ensemble.RandomForestRegressor()\n",
    "#reg = sklearn.ensemble.RandomForestRegressor(n_estimators =15)\n",
    "#max_depthes = [30,35,40,45,50,55,65,70,75,80,85,90,100,110]\n",
    "#n_estimators = [45,50,55,60,65,70,75,80,85,90,95,100,110]\n",
    "max_depthes = [8]\n",
    "n_estimators = [700]\n",
    "\n",
    "i = 0\n",
    "vals = {'val':[], 'depth':[], 'est':[], 'file_n':[], 'val-err':[]}\n",
    "\n",
    "df_test = data_preprocessing(df_test)\n",
    "X_test = df_test[COLUMNS2]\n",
    "\n",
    "scaler = StandardScaler()\n",
    "scaler.fit(X)\n",
    "X_scale_train = scaler.transform(X)\n",
    "import xgboost as xgb\n",
    "#reg = xgb.XGBClassifier(learning_rate=0.1, max_depth=3, n_estimators=5, nthread=4)\n",
    "for depth in max_depthes:\n",
    "    for n_est in n_estimators:\n",
    "        reg = xgb.XGBRegressor(max_depth=depth, n_estimators=n_est, nthread=4, random_state=42)\n",
    "        #reg = sklearn.ensemble.RandomForestRegressor(oob_score=True, max_depth=depth, n_estimators = n_est, random_state= 42)\n",
    "        reg.fit(X,Y)\n",
    "        Y_train_pred = reg.predict(X)\n",
    "        fun = mean_absolute_error(Y_train_pred,Y)\n",
    "        df_new = pds.DataFrame()\n",
    "        \n",
    "        Y_test = reg.predict(X_test)\n",
    "        df_new['id'] = df_test['id']\n",
    "        df_new['price'] = Y_test\n",
    "\n",
    "        df_new.to_csv('new_test'+str(i)+'.csv', columns = ['id','price'], index=False)\n",
    "        i+=1\n",
    "        vals['dile_n'] = i\n",
    "        vals['val'].append(fun)\n",
    "        vals['depth'].append(depth)\n",
    "        vals['est'].append(n_est)\n",
    "        vals['val-err'].append(validation_err(df_train,reg))\n",
    "        with open('result_'+str(i)+'.json', 'w') as fp:\n",
    "            json.dump(vals, fp)\n",
    "print vals\n"
   ]
  },
  {
   "cell_type": "code",
   "execution_count": 7,
   "metadata": {},
   "outputs": [
    {
     "name": "stdout",
     "output_type": "stream",
     "text": [
      "0\n",
      "Depth: 8\n",
      "Est: 700\n"
     ]
    }
   ],
   "source": [
    "np.min(vals['val-err'])\n",
    "i = np.argmin(vals['val-err'])\n",
    "print i\n",
    "vals['val'][i]\n",
    "vals['val-err'][i]\n",
    "print 'Depth:', vals['depth'][i]\n",
    "print 'Est:', vals['est'][i]"
   ]
  },
  {
   "cell_type": "markdown",
   "metadata": {
    "collapsed": true
   },
   "source": [
    "# Ошибка на обучающей выборке"
   ]
  },
  {
   "cell_type": "code",
   "execution_count": 8,
   "metadata": {},
   "outputs": [
    {
     "name": "stdout",
     "output_type": "stream",
     "text": [
      "485099.332104\n"
     ]
    }
   ],
   "source": [
    "print mean_absolute_error(Y_train_pred,Y)"
   ]
  },
  {
   "cell_type": "markdown",
   "metadata": {},
   "source": [
    "# Ошибка на тестовом подмножестве обучающей выборке"
   ]
  },
  {
   "cell_type": "code",
   "execution_count": 9,
   "metadata": {},
   "outputs": [
    {
     "name": "stdout",
     "output_type": "stream",
     "text": [
      "931529.091466\n"
     ]
    }
   ],
   "source": [
    "print validation_err(df_train,reg)"
   ]
  },
  {
   "cell_type": "code",
   "execution_count": 10,
   "metadata": {},
   "outputs": [
    {
     "data": {
      "text/plain": [
       "<matplotlib.text.Text at 0x7f2d94f2ce90>"
      ]
     },
     "execution_count": 10,
     "metadata": {},
     "output_type": "execute_result"
    },
    {
     "data": {
      "image/png": "[encoded data removed]",
      "text/plain": [
       "<matplotlib.figure.Figure at 0x7f2d8064d3d0>"
      ]
     },
     "metadata": {},
     "output_type": "display_data"
    }
   ],
   "source": [
    "df_new = pds.DataFrame()\n",
    "df_new['id'] = df_test['id']\n",
    "df_new['price'] = Y_test\n",
    "\n",
    "df_new.to_csv(str(int(vals['val'][0]))+'.csv', columns = ['id','price'], index=False)\n",
    "\n",
    "plt.plot(Y,'g',label='train')\n",
    "plt.plot(Y_test,'r', label='test')\n",
    "plt.legend()\n",
    "plt.xlabel('number')\n",
    "plt.ylabel('price')\n"
   ]
  },
  {
   "cell_type": "code",
   "execution_count": 11,
   "metadata": {},
   "outputs": [
    {
     "data": {
      "text/plain": [
       "84413808.0"
      ]
     },
     "execution_count": 11,
     "metadata": {},
     "output_type": "execute_result"
    }
   ],
   "source": [
    "np.max(Y_test)"
   ]
  },
  {
   "cell_type": "code",
   "execution_count": null,
   "metadata": {
    "collapsed": true
   },
   "outputs": [],
   "source": []
  },
  {
   "cell_type": "code",
   "execution_count": null,
   "metadata": {
    "collapsed": true
   },
   "outputs": [],
   "source": []
  },
  {
   "cell_type": "code",
   "execution_count": null,
   "metadata": {
    "collapsed": true
   },
   "outputs": [],
   "source": []
  },
  {
   "cell_type": "code",
   "execution_count": null,
   "metadata": {
    "collapsed": true
   },
   "outputs": [],
   "source": []
  }
 ],
 "metadata": {
  "kernelspec": {
   "display_name": "Python 2",
   "language": "python",
   "name": "python2"
  },
  "language_info": {
   "codemirror_mode": {
    "name": "ipython",
    "version": 2
   },
   "file_extension": ".py",
   "mimetype": "text/x-python",
   "name": "python",
   "nbconvert_exporter": "python",
   "pygments_lexer": "ipython2",
   "version": "2.7.13"
  }
 },
 "nbformat": 4,
 "nbformat_minor": 2
}
